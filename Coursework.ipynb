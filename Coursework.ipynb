{
 "cells": [
  {
   "cell_type": "markdown",
   "id": "86954369",
   "metadata": {},
   "source": [
    "# Dataset Selection\n"
   ]
  },
  {
   "cell_type": "markdown",
   "id": "64d204fa",
   "metadata": {},
   "source": [
    "As a group, we discussed three datasets that we found interesting. Given below are the datasets:\n",
    "1.\tStar Classification: This dataset classifies stars into six class types\n",
    "2.\tMobile Price Prediction: This dataset classifies the mobile prices into 3 ranges(low, high, very high).\n",
    "3.\tCar Price Prediction: This dataset predicts the price of cars\n",
    "\n",
    "We discussed the pros and cons for each dataset, and also checked with our Lab Tutor Professor Ali. Some notes from our discussion:\n",
    "\n",
    "\tStar Classification was an interesting and unique dataset, but only had 6 attributes. This was not enough to perform feature selection with and derive new conclusions. We rejected this dataset for this reason.\n",
    "\n",
    "\tCar Price prediction had a good number of attributes (26 columns), however most of these columns were information that we could not use or was not clearly described. We realized that there was a lack of quality in the data. There was also the issue of the prices being continuous variables, and not a classification, this would require us to clean and transform the data. Transforming the data to price ranges for the purpose of classification would result in the data being biased to the range we have chosen. Therefore, this dataset was rejected.\n",
    "\n",
    "\tIn the end, mobile price prediction was the chosen dataset for our coursework. It had a good amount of attributes (22 Columns), clear attribute descriptions, a price range for low, high and very high costs. The number of columns was a good quantity to perform feature selection and derive new conclusions. Mobiles are also a technological device that we are well versed in, and therefore it was an interesting topic for us. Thus, this was the final dataset chosen.\n",
    "\n",
    "We decided to choose two datasets, one which was image based and one numerical and data focused. For the image dataset, we chose face mask detection. This dataset classifies whether a person is wearing a mask, not wearing a mask, or wearing it incorrectly\n",
    "\n",
    "The links to the two final chosen datasets:\n",
    "1.\tMobile price prediction: https://www.kaggle.com/code/vikramb/mobile-price-prediction\n",
    "2.\tFace-mask detection: https://www.kaggle.com/datasets/andrewmvd/face-mask-detection\n"
   ]
  }
 ],
 "metadata": {
  "kernelspec": {
   "display_name": "Python 3 (ipykernel)",
   "language": "python",
   "name": "python3"
  },
  "language_info": {
   "codemirror_mode": {
    "name": "ipython",
    "version": 3
   },
   "file_extension": ".py",
   "mimetype": "text/x-python",
   "name": "python",
   "nbconvert_exporter": "python",
   "pygments_lexer": "ipython3",
   "version": "3.9.12"
  }
 },
 "nbformat": 4,
 "nbformat_minor": 5
}
